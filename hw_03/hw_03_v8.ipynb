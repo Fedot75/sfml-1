{
 "cells": [
  {
   "cell_type": "markdown",
   "metadata": {},
   "source": [
    "### Состав команды:\n",
    "\n",
    "- Поляков Александр (Aleksandr Polyakov)\n",
    "- Востриков Алексей (Alexey Vostrikoff)\n",
    "- Садыков Динар (Dinar_Sadykow)\n",
    "- Федотов Андрей (Andrei Fedotov)\n",
    "- Каштанкина Ксения\n",
    "- Овчинников Алексей (Aleksey)\n",
    "- Пьянков Алексей\n",
    "- Лукошко Роберт (Robert)\n",
    "- Поперечный Богдан (Bogdan2105)"
   ]
  },
  {
   "cell_type": "markdown",
   "metadata": {},
   "source": [
    "# Шаг 1. Подготовка данных\n",
    "\n"
   ]
  },
  {
   "cell_type": "code",
   "execution_count": 30,
   "metadata": {},
   "outputs": [],
   "source": [
    "import pandas as pd\n",
    "import numpy as np\n",
    "import matplotlib.pyplot as plt\n",
    "from ipywidgets import interact, IntSlider, FloatSlider\n",
    "from sklearn.preprocessing import StandardScaler\n",
    "from sklearn.pipeline import Pipeline\n",
    "from sklearn.neighbors import KNeighborsClassifier\n",
    "from sklearn.linear_model import LogisticRegression\n",
    "from sklearn.tree import DecisionTreeClassifier\n",
    "from sklearn.model_selection import train_test_split\n",
    "from sklearn.metrics import roc_auc_score\n",
    "from sklearn.tree import export_graphviz\n",
    "import subprocess\n",
    "from scipy.stats import randint as randint\n",
    "from scipy.stats import uniform\n",
    "from sklearn.metrics import precision_score, recall_score, accuracy_score, classification_report\n",
    "from sklearn.metrics import roc_auc_score, roc_curve\n",
    "\n",
    "try:\n",
    "    from sklearn.model_selection import GridSearchCV\n",
    "    from sklearn.model_selection import RandomizedSearchCV\n",
    "    from sklearn.model_selection import StratifiedKFold\n",
    "except ImportError:\n",
    "    from sklearn.cross_validation import GridSearchCV\n",
    "    from sklearn.cross_validation import RandomizedSearchCV\n",
    "    from sklearn.cross_validation import StratifiedKFold\n",
    "\n",
    "try:\n",
    "    from sklearn.model_selection import validation_curve\n",
    "except ImportError:\n",
    "    from sklearn.learning_curve import validation_curve\n",
    "\n",
    "try:\n",
    "    from sklearn.model_selection import StratifiedKFold\n",
    "except ImportError:\n",
    "    from sklearn.cross_validation import StratifiedKFold"
   ]
  },
  {
   "cell_type": "code",
   "execution_count": 2,
   "metadata": {},
   "outputs": [],
   "source": [
    "%matplotlib inline\n",
    "\n",
    "plt.style.use('ggplot')\n",
    "plt.rcParams['figure.figsize'] = (12,8)\n",
    "\n",
    "sample_submission = pd.read_csv('sample_submission.csv',',')\n",
    "train = pd.read_csv('train.csv',',')\n",
    "test  = pd.read_csv('test.csv',',')"
   ]
  },
  {
   "cell_type": "code",
   "execution_count": 3,
   "metadata": {},
   "outputs": [],
   "source": [
    "def len_of_age(age):\n",
    "    return len(age_pd_count[age_pd_count['age'] == age])\n",
    "age_pd_sum = train.groupby(['age']).sum().reset_index().sort_values(by = 'age')[['age','target']]\n",
    "\n",
    "\n",
    "age_pd_count = pd.DataFrame(train['age'])\n",
    "age_pd_count['counter'] = age_pd_count['age'].apply(len_of_age)\n",
    "age_pd_count = age_pd_count.sort_values(by = 'age')\n",
    "\n",
    "age_pd_count = age_pd_count.drop_duplicates('age')\n",
    "\n",
    "age_db = age_pd_sum.merge(age_pd_count, how = 'left', on = 'age')\n",
    "age_db['conversion_age'] = 100*age_db['target']/age_db['counter']\n",
    "\n",
    "age_db.sort_values('conversion_age', ascending=False).head()\n",
    "age_conv = age_db.sort_values('conversion_age', ascending=False).drop(['target','counter'], axis = 'columns')\n",
    "\n",
    "\n"
   ]
  },
  {
   "cell_type": "code",
   "execution_count": 4,
   "metadata": {},
   "outputs": [
    {
     "data": {
      "text/plain": [
       "0.11277921657494334"
      ]
     },
     "execution_count": 4,
     "metadata": {},
     "output_type": "execute_result"
    }
   ],
   "source": [
    "mean_conv = train['target'].sum()/train['target'].count()\n",
    "mean_conv"
   ]
  },
  {
   "cell_type": "code",
   "execution_count": 5,
   "metadata": {},
   "outputs": [
    {
     "data": {
      "text/html": [
       "<div>\n",
       "<style scoped>\n",
       "    .dataframe tbody tr th:only-of-type {\n",
       "        vertical-align: middle;\n",
       "    }\n",
       "\n",
       "    .dataframe tbody tr th {\n",
       "        vertical-align: top;\n",
       "    }\n",
       "\n",
       "    .dataframe thead th {\n",
       "        text-align: right;\n",
       "    }\n",
       "</style>\n",
       "<table border=\"1\" class=\"dataframe\">\n",
       "  <thead>\n",
       "    <tr style=\"text-align: right;\">\n",
       "      <th></th>\n",
       "      <th>age</th>\n",
       "      <th>conversion_age</th>\n",
       "    </tr>\n",
       "  </thead>\n",
       "  <tbody>\n",
       "  </tbody>\n",
       "</table>\n",
       "</div>"
      ],
      "text/plain": [
       "Empty DataFrame\n",
       "Columns: [age, conversion_age]\n",
       "Index: []"
      ]
     },
     "execution_count": 5,
     "metadata": {},
     "output_type": "execute_result"
    }
   ],
   "source": [
    "age_conv[age_conv['age'] == 97]"
   ]
  },
  {
   "cell_type": "code",
   "execution_count": null,
   "metadata": {},
   "outputs": [],
   "source": []
  },
  {
   "cell_type": "code",
   "execution_count": 5,
   "metadata": {},
   "outputs": [
    {
     "name": "stdout",
     "output_type": "stream",
     "text": [
      "==========\n",
      "job\n",
      "{'housemaid', 'technician', 'admin.', 'unemployed', 'management', 'retired', 'student', 'blue-collar', 'entrepreneur', 'self-employed', 'services', 'unknown'}\n",
      "\n",
      "\n",
      "==========\n",
      "marital\n",
      "{'unknown', 'married', 'single', 'divorced'}\n",
      "\n",
      "\n",
      "==========\n",
      "education\n",
      "{'high.school', 'basic.4y', 'illiterate', 'basic.9y', 'basic.6y', 'professional.course', 'university.degree', 'unknown'}\n",
      "\n",
      "\n",
      "==========\n",
      "default\n",
      "{'yes', 'no', 'unknown'}\n",
      "\n",
      "\n",
      "==========\n",
      "housing\n",
      "{'yes', 'no', 'unknown'}\n",
      "\n",
      "\n",
      "==========\n",
      "loan\n",
      "{'yes', 'no', 'unknown'}\n",
      "\n",
      "\n",
      "==========\n",
      "contact\n",
      "{'cellular', 'telephone'}\n",
      "\n",
      "\n",
      "==========\n",
      "month\n",
      "{'mar', 'aug', 'jul', 'sep', 'oct', 'dec', 'apr', 'jun', 'may', 'nov'}\n",
      "\n",
      "\n",
      "==========\n",
      "day_of_week\n",
      "{'wed', 'fri', 'mon', 'tue', 'thu'}\n",
      "\n",
      "\n",
      "==========\n",
      "poutcome\n",
      "{'failure', 'nonexistent', 'success'}\n",
      "\n",
      "\n"
     ]
    }
   ],
   "source": [
    "object_list = []\n",
    "for i in train.columns: # перебираем все столбцы\n",
    "    if (str(train[i].dtype) == 'object') and (i != '_id'): # если тип столбца - object\n",
    "        print('='*10)\n",
    "        print(i) # выводим название столбца\n",
    "        print(set(train[i])) # выводим все его значения (но делаем set - чтоб значения не повторялись)\n",
    "        print('\\n') # выводим пустую строку\n",
    "        object_list.append(i)"
   ]
  },
  {
   "cell_type": "code",
   "execution_count": 52,
   "metadata": {},
   "outputs": [],
   "source": [
    "def age_format(age):\n",
    "    try:\n",
    "        a = float(age_conv[age_conv['age'] == age]['conversion_age'])\n",
    "    except:\n",
    "        a = 0\n",
    "    if a == 0:\n",
    "        try:\n",
    "            omega = float(age_conv[age_conv['age'] == age+1]['conversion_age'])\n",
    "        except:\n",
    "            omega = mean_conv\n",
    "        try:\n",
    "            alpha = float(age_conv[age_conv['age'] == age-1]['conversion_age'])\n",
    "        except:\n",
    "            alpha = mean_conv        \n",
    "        return max (alpha,omega)\n",
    "    else:\n",
    "        return a\n",
    "    \n",
    "def pdays_format (pdays):\n",
    "    if pdays == 999:\n",
    "        return 0\n",
    "    else:\n",
    "        return pdays\n",
    "\n",
    "# pdays_to_NaN (pdays):\n",
    " #   if pdays == 999:\n",
    "  #      return 0\n",
    "   # else:\n",
    "    #    return pdays\n",
    "    \n",
    "def unknown_to_NaN (data):\n",
    "    if data == 'unknown':\n",
    "        return float('NaN')\n",
    "    else:\n",
    "        return data\n",
    "\n",
    "def preproc(df_input):\n",
    "    object_list = []\n",
    "    df_output = df_input.copy()\n",
    "    list_of_drop = ['_id','month','day_of_week']\n",
    "    df_output = df_output.drop(list_of_drop, axis = 'columns')\n",
    "    df.loc[df.pdays == 999, 'is_contact'] = 0\n",
    "    df.loc[df.pdays >= 0, 'is_contact'] = 1\n",
    "    df_output['age'] = df_output['age'].apply(age_format)\n",
    "    for i in df_output.columns: # перебираем все столбцы\n",
    "         if (str(df_output[i].dtype) == 'object') and (i != '_id'): # если тип столбца - object\n",
    "                object_list.append(i)\n",
    "\n",
    "    df_output = pd.get_dummies(df_output, columns = object_list)\n",
    "    return df_output"
   ]
  },
  {
   "cell_type": "code",
   "execution_count": 54,
   "metadata": {},
   "outputs": [
    {
     "data": {
      "text/plain": [
       "999    23830\n",
       "3        264\n",
       "6        257\n",
       "4         66\n",
       "12        34\n",
       "10        31\n",
       "7         30\n",
       "2         29\n",
       "9         29\n",
       "5         24\n",
       "13        19\n",
       "1         17\n",
       "15        17\n",
       "8         13\n",
       "14        12\n",
       "11        12\n",
       "17         7\n",
       "16         6\n",
       "0          6\n",
       "22         2\n",
       "18         2\n",
       "21         1\n",
       "20         1\n",
       "19         1\n",
       "25         1\n",
       "27         1\n",
       "Name: pdays, dtype: int64"
      ]
     },
     "execution_count": 54,
     "metadata": {},
     "output_type": "execute_result"
    }
   ],
   "source": [
    "train['pdays'].value_counts()"
   ]
  },
  {
   "cell_type": "code",
   "execution_count": 9,
   "metadata": {},
   "outputs": [
    {
     "data": {
      "text/plain": [
       "75.0"
      ]
     },
     "execution_count": 9,
     "metadata": {},
     "output_type": "execute_result"
    }
   ],
   "source": [
    "age_format(92)"
   ]
  },
  {
   "cell_type": "code",
   "execution_count": null,
   "metadata": {},
   "outputs": [],
   "source": []
  },
  {
   "cell_type": "code",
   "execution_count": 10,
   "metadata": {},
   "outputs": [],
   "source": [
    "train_preproc = train.pipe(preproc)\n",
    "test_preproc = test.pipe(preproc)"
   ]
  },
  {
   "cell_type": "code",
   "execution_count": 11,
   "metadata": {},
   "outputs": [
    {
     "name": "stdout",
     "output_type": "stream",
     "text": [
      "X train  (24712, 48)\n",
      "Y train  24712\n"
     ]
    }
   ],
   "source": [
    "df_y_train = list(train_preproc['target'])\n",
    "df_x_train = train_preproc.drop(['target'], axis = 1)\n",
    "print('X train ', df_x_train.shape)\n",
    "print('Y train ', len(df_y_train))"
   ]
  },
  {
   "cell_type": "code",
   "execution_count": 43,
   "metadata": {},
   "outputs": [],
   "source": [
    "df_x_test  = test_preproc.drop(['target'], axis = 1)"
   ]
  },
  {
   "cell_type": "code",
   "execution_count": 12,
   "metadata": {},
   "outputs": [
    {
     "name": "stdout",
     "output_type": "stream",
     "text": [
      "X_train  (19769, 48)\n",
      "X_test  (4943, 48)\n"
     ]
    }
   ],
   "source": [
    "X_train, X_test, y_train, y = train_test_split(df_x_train, df_y_train, test_size=0.2, random_state=42)\n",
    "print('X_train ', X_train.shape)\n",
    "print('X_test ',X_test.shape)"
   ]
  },
  {
   "cell_type": "code",
   "execution_count": 15,
   "metadata": {},
   "outputs": [
    {
     "name": "stdout",
     "output_type": "stream",
     "text": [
      "########## >>> KNeighborsClassifier <<< ########## \n",
      "              precision    recall  f1-score   support\n",
      "\n",
      "          0       0.92      0.97      0.94      4387\n",
      "          1       0.58      0.31      0.40       556\n",
      "\n",
      "avg / total       0.88      0.90      0.88      4943\n",
      " \n",
      "\n"
     ]
    }
   ],
   "source": [
    "from sklearn.preprocessing import StandardScaler\n",
    "from sklearn.pipeline import Pipeline\n",
    "from sklearn.neighbors import KNeighborsClassifier\n",
    "from sklearn.model_selection import train_test_split\n",
    "\n",
    "model0 = Pipeline([\n",
    "    ('scaler', StandardScaler()),\n",
    "    ('knn', KNeighborsClassifier(n_neighbors=5))\n",
    "])\n",
    "\n",
    "model0.fit(X_train, y_train)\n",
    "\n",
    "predict = model0.predict(X_test)                      # делаем предсказание\n",
    "# dict_model ['KNeighborsClassifier']= [precision_score(y, predict), recall_score(y, predict), accuracy_score(y, predict)]\n",
    "print('#'*10,'>>> KNeighborsClassifier <<<','#'*10,'\\n',classification_report(y, predict),'\\n')"
   ]
  },
  {
   "cell_type": "code",
   "execution_count": 16,
   "metadata": {},
   "outputs": [
    {
     "name": "stdout",
     "output_type": "stream",
     "text": [
      "########## >>> KNeighborsClassifier <<< ########## \n",
      "              precision    recall  f1-score   support\n",
      "\n",
      "          0       0.93      0.95      0.94      4387\n",
      "          1       0.53      0.48      0.50       556\n",
      "\n",
      "avg / total       0.89      0.89      0.89      4943\n",
      " \n",
      "\n"
     ]
    }
   ],
   "source": [
    "# from sklearn.neighbors import KNeighborsClassifier\n",
    "# from sklearn.cross_validation import train_test_split\n",
    "\n",
    "dict_model = {}\n",
    "\n",
    "model1 = KNeighborsClassifier(n_neighbors=3, weights='uniform', p=2, metric='euclidean')\n",
    "model1.fit(X_train, y_train)\n",
    "\n",
    "predict = model1.predict(X_test)                      # делаем предсказание\n",
    "dict_model ['KNeighborsClassifier']= [precision_score(y, predict), recall_score(y, predict), accuracy_score(y, predict)]\n",
    "print('#'*10,'>>> KNeighborsClassifier <<<','#'*10,'\\n',classification_report(y, predict),'\\n')"
   ]
  },
  {
   "cell_type": "code",
   "execution_count": 17,
   "metadata": {},
   "outputs": [
    {
     "data": {
      "text/plain": [
       "Text(0,0.5,'ROC AUC')"
      ]
     },
     "execution_count": 17,
     "metadata": {},
     "output_type": "execute_result"
    },
    {
     "data": {
      "image/png": "[encoded data removed]",
      "text/plain": [
       "<Figure size 864x576 with 1 Axes>"
      ]
     },
     "metadata": {},
     "output_type": "display_data"
    }
   ],
   "source": [
    "from sklearn.tree import DecisionTreeClassifier\n",
    "from sklearn.tree import export_graphviz\n",
    "from ipywidgets import interact, IntSlider\n",
    "import subprocess\n",
    "\n",
    "try:\n",
    "    from sklearn.model_selection import validation_curve\n",
    "except ImportError:\n",
    "    from sklearn.learning_curve import validation_curve\n",
    "\n",
    "try:\n",
    "    from sklearn.model_selection import StratifiedKFold\n",
    "except ImportError:\n",
    "    from sklearn.cross_validation import StratifiedKFold\n",
    "\n",
    "# ---------------------------------------------------------------------\n",
    "# ищем максимальную точность на графике max_depth\n",
    "\n",
    "model2 = DecisionTreeClassifier(random_state=123)\n",
    "model2.fit(X_train, y_train)\n",
    "\n",
    "cv = StratifiedKFold(n_splits=5, shuffle=True, random_state=132)\n",
    "train_scores, valid_scores = validation_curve(model2, X_train, y_train, \n",
    "                                              'max_depth', range(1, 10),\n",
    "                                              cv=cv, scoring='roc_auc')\n",
    "train_score_mean = train_scores.mean(axis=1)\n",
    "train_score_std = train_scores.std(axis=1)\n",
    "valid_scores_mean = valid_scores.mean(axis=1)\n",
    "valid_scores_std = valid_scores.std(axis=1)\n",
    "\n",
    "plt.fill_between(range(1,10), train_score_mean-train_score_std, train_score_mean+train_score_std, color='b',\n",
    "                 interpolate=True, alpha=0.5,)\n",
    "plt.fill_between(range(1,10), valid_scores_mean-valid_scores_std, valid_scores_mean+valid_scores_std, color='r', \n",
    "                 interpolate=True, alpha=0.5)\n",
    "\n",
    "plt.plot(range(1,10), train_score_mean, c='b', lw=2) #синяя линия обучающая выборка\n",
    "plt.plot(range(1,10), valid_scores_mean, c='r', lw=2) #красная линяя - валидационная выборка\n",
    "\n",
    "plt.xlabel('max depth')\n",
    "plt.ylabel('ROC AUC')\n",
    "\n",
    "# это значит, что мы будем проверять влияние параметра max_depth\n",
    "# в дапозоне от 1 до 10\n",
    "# и для этого мы будем использовать 5-fold кросс-валидацию\n",
    "# с мерой качества mean_absolute_error.\n",
    "# neg_ потому что по умолчанию в sklearn чем значение меры выше - тем лучше, \n",
    "# но в нашем случае нам нужно как раз допускать меньшую ошибку\n",
    "# ---------------------------------------------------------------------"
   ]
  },
  {
   "cell_type": "code",
   "execution_count": 24,
   "metadata": {},
   "outputs": [
    {
     "name": "stdout",
     "output_type": "stream",
     "text": [
      "########## >>> DecisionTreeClassifier <<< ########## \n",
      "              precision    recall  f1-score   support\n",
      "\n",
      "          0       0.94      0.96      0.95      4387\n",
      "          1       0.64      0.51      0.57       556\n",
      "\n",
      "avg / total       0.91      0.91      0.91      4943\n",
      " \n",
      "\n"
     ]
    }
   ],
   "source": [
    "depth=5 #видно из графика\n",
    "\n",
    "model2 = DecisionTreeClassifier(max_depth = depth, random_state=123)\n",
    "model2.fit(X_train, y_train)\n",
    "\n",
    "predict = model2.predict(X_test)                      # делаем предсказание\n",
    "dict_model ['DecisionTreeClassifier']= [precision_score(y, predict), recall_score(y, predict), accuracy_score(y, predict)]\n",
    "print('#'*10,'>>> DecisionTreeClassifier <<<','#'*10,'\\n',classification_report(y, predict),'\\n')"
   ]
  },
  {
   "cell_type": "code",
   "execution_count": 25,
   "metadata": {},
   "outputs": [
    {
     "name": "stdout",
     "output_type": "stream",
     "text": [
      "########## >>> LogisticRegression <<< ########## \n",
      "              precision    recall  f1-score   support\n",
      "\n",
      "          0       0.92      0.97      0.95      4387\n",
      "          1       0.63      0.35      0.45       556\n",
      "\n",
      "avg / total       0.89      0.90      0.89      4943\n",
      " \n",
      "\n"
     ]
    }
   ],
   "source": [
    "model3_1 = LogisticRegression()                     # инициализируем модель\n",
    "model3_1.fit(X_train, y_train)                      # обучаем модель\n",
    "predict = model3_1.predict(X_test)                      # делаем предсказание\n",
    "dict_model ['LogisticRegression']= [precision_score(y, predict), recall_score(y, predict), accuracy_score(y, predict)]\n",
    "print('#'*10,'>>> LogisticRegression <<<','#'*10,'\\n',classification_report(y, predict),'\\n')"
   ]
  },
  {
   "cell_type": "code",
   "execution_count": 26,
   "metadata": {},
   "outputs": [
    {
     "name": "stdout",
     "output_type": "stream",
     "text": [
      "########## >>> LogisticRegression <<< ########## \n",
      "              precision    recall  f1-score   support\n",
      "\n",
      "          0       0.98      0.85      0.91      4387\n",
      "          1       0.43      0.88      0.57       556\n",
      "\n",
      "avg / total       0.92      0.85      0.87      4943\n",
      " \n",
      "\n"
     ]
    }
   ],
   "source": [
    "model3_2 = LogisticRegression(class_weight='balanced')                     # инициализируем модель\n",
    "model3_2.fit(X_train, y_train)                      # обучаем модель\n",
    "predict = model3_2.predict(X_test)                      # делаем предсказание\n",
    "dict_model ['LogisticRegression']= [precision_score(y, predict), recall_score(y, predict), accuracy_score(y, predict)]\n",
    "print('#'*10,'>>> LogisticRegression <<<','#'*10,'\\n',classification_report(y, predict),'\\n')"
   ]
  },
  {
   "cell_type": "code",
   "execution_count": 27,
   "metadata": {},
   "outputs": [
    {
     "data": {
      "text/plain": [
       "0.9285536239346794"
      ]
     },
     "execution_count": 27,
     "metadata": {},
     "output_type": "execute_result"
    }
   ],
   "source": [
    "model3_2_proba = model3_2.predict_proba(X_test )\n",
    "roc_auc_score(y, model3_2_proba[:, 1])"
   ]
  },
  {
   "cell_type": "code",
   "execution_count": 28,
   "metadata": {},
   "outputs": [
    {
     "data": {
      "text/plain": [
       "0.9250274273400974"
      ]
     },
     "execution_count": 28,
     "metadata": {},
     "output_type": "execute_result"
    }
   ],
   "source": [
    "model3_1_proba = model3_1.predict_proba(X_test )\n",
    "roc_auc_score(y, model3_1_proba[:, 1])"
   ]
  },
  {
   "cell_type": "code",
   "execution_count": 31,
   "metadata": {},
   "outputs": [
    {
     "data": {
      "text/plain": [
       "(-0.01, 1.01)"
      ]
     },
     "execution_count": 31,
     "metadata": {},
     "output_type": "execute_result"
    },
    {
     "data": {
      "image/png": "[encoded data removed]",
      "text/plain": [
       "<Figure size 360x720 with 2 Axes>"
      ]
     },
     "metadata": {},
     "output_type": "display_data"
    }
   ],
   "source": [
    "plt.figure(figsize=(5, 10))\n",
    "\n",
    "#subplot 1\n",
    "plt.subplot(211)\n",
    "predict_proba1 = model3_1.predict_proba(X_test)\n",
    "fpr, tpr, thresholds = roc_curve(y, predict_proba1[:,1])\n",
    "plt.plot(fpr, tpr)\n",
    "plt.plot([0, 1], [0, 1])\n",
    "plt.ylabel('tpr')\n",
    "plt.xlabel('fpr')\n",
    "plt.grid(True)\n",
    "plt.title('model3_1_proba / ROC curve')\n",
    "plt.xlim((-0.01, 1.01))\n",
    "plt.ylim((-0.01, 1.01))\n",
    "\n",
    "#subplot 2\n",
    "plt.subplot(212)\n",
    "predict_proba2 = model3_2.predict_proba(X_test)\n",
    "fpr, tpr, thresholds = roc_curve(y, predict_proba2[:,1])\n",
    "plt.plot(fpr, tpr);\n",
    "plt.plot([0, 1], [0, 1])\n",
    "plt.ylabel('tpr')\n",
    "plt.xlabel('fpr')\n",
    "plt.axis('equal')\n",
    "plt.grid(True)\n",
    "plt.title('model3_2_proba / ROC curve')\n",
    "plt.xlim((-0.01, 1.01))\n",
    "plt.ylim((-0.01, 1.01))"
   ]
  },
  {
   "cell_type": "code",
   "execution_count": 32,
   "metadata": {},
   "outputs": [
    {
     "name": "stdout",
     "output_type": "stream",
     "text": [
      "########## >>> DecisionTreeClassifier random_search <<< ########## \n",
      "              precision    recall  f1-score   support\n",
      "\n",
      "          0       0.99      0.84      0.91      4387\n",
      "          1       0.42      0.91      0.57       556\n",
      "\n",
      "avg / total       0.92      0.85      0.87      4943\n",
      " \n",
      "\n"
     ]
    }
   ],
   "source": [
    "from scipy.stats import randint as randint\n",
    "from scipy.stats import uniform\n",
    "\n",
    "try:\n",
    "    from sklearn.model_selection import GridSearchCV\n",
    "    from sklearn.model_selection import RandomizedSearchCV\n",
    "    from sklearn.model_selection import StratifiedKFold\n",
    "except ImportError:\n",
    "    from sklearn.cross_validation import GridSearchCV\n",
    "    from sklearn.cross_validation import RandomizedSearchCV\n",
    "    from sklearn.cross_validation import StratifiedKFold\n",
    "\n",
    "# Определим пространство поиска\n",
    "\n",
    "param_grid = {\n",
    "    'criterion': ['gini', 'entropy'], #критерии\n",
    "    'max_depth': randint(2, 8), #максимальная глубина от 2 до 8\n",
    "    'min_samples_leaf': randint(5, 10), #минимальное количество объектов в вершие дерева, достаточное чтоб дробить дерево на части\n",
    "    'class_weight': [None, 'balanced']} #объекты классов, которые недопредставлены в выборке, будет взвешивать и балансировать\n",
    "\n",
    "# Некоторые параметры мы задали не простым перечислением значений, а с помощью распределений.\n",
    "\n",
    "# Будем делать 200 запусков поиска\n",
    "cv = StratifiedKFold(n_splits=5, random_state=123, shuffle=True)\n",
    "\n",
    "model4 = DecisionTreeClassifier(random_state=123)\n",
    "random_search = RandomizedSearchCV(model4, param_distributions=param_grid, n_iter=200, n_jobs=-1,\n",
    "                                   cv=cv, scoring='roc_auc', random_state=123) #200 переборов, n_jobs=-1 дает параллельное вычисление\n",
    "# А дальше, просто .fit()\n",
    "random_search.fit(X_train, y_train)\n",
    "model4best = random_search.best_estimator_\n",
    "\n",
    "predict = model4best.predict(X_test)                      # делаем предсказание\n",
    "dict_model ['DecisionTreeClassifier random_search']= [precision_score(y, predict), recall_score(y, predict), accuracy_score(y, predict)]\n",
    "print('#'*10,'>>> DecisionTreeClassifier random_search <<<','#'*10,'\\n',classification_report(y, predict),'\\n')"
   ]
  },
  {
   "cell_type": "code",
   "execution_count": 33,
   "metadata": {},
   "outputs": [
    {
     "data": {
      "text/plain": [
       "0.9311936591597476"
      ]
     },
     "execution_count": 33,
     "metadata": {},
     "output_type": "execute_result"
    }
   ],
   "source": [
    "model4_proba = random_search.predict_proba(X_test )\n",
    "roc_auc_score(y, model4_proba[:, 1])"
   ]
  },
  {
   "cell_type": "code",
   "execution_count": 34,
   "metadata": {},
   "outputs": [
    {
     "data": {
      "image/png": "[encoded data removed]",
      "text/plain": [
       "<Figure size 1080x1080 with 4 Axes>"
      ]
     },
     "metadata": {},
     "output_type": "display_data"
    }
   ],
   "source": [
    "# Потроить roc-кривые всех можелей на одном графике\n",
    "# Вывести roc_auc каждой моделе\n",
    "# Подпишите оси и линии\n",
    "\n",
    "plt.figure(figsize=(15, 15))\n",
    "\n",
    "#subplot 1\n",
    "plt.subplot(221)\n",
    "predict_proba1 = model1.predict_proba(X_test)\n",
    "fpr, tpr, thresholds = roc_curve(y, predict_proba1[:,1])\n",
    "plt.plot(fpr, tpr)\n",
    "plt.plot([0, 1], [0, 1])\n",
    "plt.ylabel('tpr')\n",
    "plt.xlabel('fpr')\n",
    "plt.grid(True)\n",
    "plt.title('KNeighborsClassifier / ROC curve')\n",
    "plt.xlim((-0.01, 1.01))\n",
    "plt.ylim((-0.01, 1.01))\n",
    "\n",
    "#subplot 2\n",
    "plt.subplot(222)\n",
    "predict_proba2 = model2.predict_proba(X_test)\n",
    "fpr, tpr, thresholds = roc_curve(y, predict_proba2[:,1])\n",
    "plt.plot(fpr, tpr);\n",
    "plt.plot([0, 1], [0, 1])\n",
    "plt.ylabel('tpr')\n",
    "plt.xlabel('fpr')\n",
    "plt.axis('equal')\n",
    "plt.grid(True)\n",
    "plt.title('DecisionTreeClassifier / ROC curve')\n",
    "plt.xlim((-0.01, 1.01))\n",
    "plt.ylim((-0.01, 1.01))\n",
    "\n",
    "#subplot 3\n",
    "plt.subplot(223)\n",
    "predict_proba3_2 = model3_2.predict_proba(X_test)\n",
    "fpr, tpr, thresholds = roc_curve(y, predict_proba3_2[:,1])\n",
    "plt.plot(fpr, tpr)\n",
    "plt.plot([0, 1], [0, 1])\n",
    "plt.ylabel('tpr')\n",
    "plt.xlabel('fpr')\n",
    "plt.grid(True)\n",
    "plt.title('LogisticRegression / ROC curve')\n",
    "plt.xlim((-0.01, 1.01))\n",
    "plt.ylim((-0.01, 1.01))\n",
    "\n",
    "#subplot 4\n",
    "plt.subplot(224)\n",
    "predict_proba3 = model4best.predict_proba(X_test)\n",
    "fpr, tpr, thresholds = roc_curve(y, predict_proba3[:,1])\n",
    "plt.plot(fpr, tpr)\n",
    "plt.plot([0, 1], [0, 1])\n",
    "plt.ylabel('tpr')\n",
    "plt.xlabel('fpr')\n",
    "plt.grid(True)\n",
    "plt.title('DecisionTreeClassifier random_search/ ROC curve')\n",
    "plt.xlim((-0.01, 1.01))\n",
    "plt.ylim((-0.01, 1.01))\n",
    "plt.show()"
   ]
  },
  {
   "cell_type": "code",
   "execution_count": 35,
   "metadata": {},
   "outputs": [
    {
     "name": "stderr",
     "output_type": "stream",
     "text": [
      "/Users/aleksandrpolakov/anaconda3/lib/python3.6/site-packages/sklearn/cross_validation.py:41: DeprecationWarning: This module was deprecated in version 0.18 in favor of the model_selection module into which all the refactored classes and functions are moved. Also note that the interface of the new CV iterators are different from that of this module. This module will be removed in 0.20.\n",
      "  \"This module will be removed in 0.20.\", DeprecationWarning)\n"
     ]
    },
    {
     "name": "stdout",
     "output_type": "stream",
     "text": [
      "########## >>> AVG roc_auc for Train: <<< ########## \n",
      "Model 1. KNeighborsClassifier\t\t\t0.8339                         \n",
      "Model 2. DecisionTreeClassifier\t\t\t0.9228                        \n",
      "Model 3. LogisticRegression\t\t\t0.9298                            \n",
      "Model 4. DecisionTreeClassifier random_search\t0.9379 \n"
     ]
    }
   ],
   "source": [
    "from sklearn.cross_validation import cross_val_score\n",
    "# Сделать k-fold (10 фолдов) кросс-валидацию каждой модели\n",
    "# И посчитать средний roc_auc\n",
    "\n",
    "cross1 = cross_val_score(model1,df_x_train,df_y_train,scoring='roc_auc', cv=10)\n",
    "cross2 = cross_val_score(model2,df_x_train,df_y_train,scoring='roc_auc', cv=10)\n",
    "cross3 = cross_val_score(model3_2,df_x_train,df_y_train,scoring='roc_auc', cv=10)\n",
    "cross4 = cross_val_score(model4best,df_x_train,df_y_train,scoring='roc_auc', cv=10)\n",
    "\n",
    "print('#'*10,'>>> AVG roc_auc for Train: <<<','#'*10,\n",
    "      '\\nModel 1. KNeighborsClassifier\\t\\t\\t{:.4f}                   \\\n",
    "      \\nModel 2. DecisionTreeClassifier\\t\\t\\t{:.4f}                  \\\n",
    "      \\nModel 3. LogisticRegression\\t\\t\\t{:.4f}                      \\\n",
    "      \\nModel 4. DecisionTreeClassifier random_search\\t{:.4f} '\n",
    "      .format( (sum(cross1) / float(len(cross1))),\n",
    "              (sum(cross2) / float(len(cross2))),\n",
    "              (sum(cross3) / float(len(cross3))),\n",
    "              (sum(cross4) / float(len(cross4))),\n",
    "             ) )"
   ]
  },
  {
   "cell_type": "code",
   "execution_count": 47,
   "metadata": {},
   "outputs": [
    {
     "name": "stdout",
     "output_type": "stream",
     "text": [
      "['_id', 'age', 'job', 'marital', 'education', 'default', 'housing', 'loan', 'contact', 'month', 'day_of_week', 'duration', 'campaign', 'pdays', 'previous', 'poutcome', 'emp.var.rate', 'cons.price.idx', 'cons.conf.idx', 'euribor3m', 'nr.employed', 'target']\n"
     ]
    }
   ],
   "source": [
    "predict = model4best.predict(df_x_test)\n",
    "df_test['target'] = predict\n",
    "test['target'] = df_test['target'].astype('int')\n",
    "print(list(test.columns))"
   ]
  },
  {
   "cell_type": "code",
   "execution_count": 50,
   "metadata": {},
   "outputs": [],
   "source": [
    "df_result = test.drop(['age', 'job', 'marital', 'education', 'default', 'housing',\n",
    "                          'loan', 'contact', 'month', 'day_of_week', 'duration', 'campaign',\n",
    "                          'pdays', 'previous', 'poutcome', 'emp.var.rate', 'cons.price.idx',\n",
    "                          'cons.conf.idx', 'euribor3m', 'nr.employed'], axis = 1)"
   ]
  },
  {
   "cell_type": "code",
   "execution_count": 51,
   "metadata": {},
   "outputs": [],
   "source": [
    "df_result.to_csv('result_submission.csv', sep=',', encoding='utf-8',index=False)"
   ]
  },
  {
   "cell_type": "code",
   "execution_count": null,
   "metadata": {},
   "outputs": [],
   "source": []
  }
 ],
 "metadata": {
  "kernelspec": {
   "display_name": "Python 3",
   "language": "python",
   "name": "python3"
  },
  "language_info": {
   "codemirror_mode": {
    "name": "ipython",
    "version": 3
   },
   "file_extension": ".py",
   "mimetype": "text/x-python",
   "name": "python",
   "nbconvert_exporter": "python",
   "pygments_lexer": "ipython3",
   "version": "3.6.5"
  }
 },
 "nbformat": 4,
 "nbformat_minor": 2
}
